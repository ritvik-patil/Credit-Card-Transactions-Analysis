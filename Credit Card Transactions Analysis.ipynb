{
 "cells": [
  {
   "cell_type": "code",
   "execution_count": 1,
   "id": "74879c5e-de24-4d2a-8810-7ac3fc56c4f5",
   "metadata": {},
   "outputs": [],
   "source": [
    "import pandas as pd\n",
    "import numpy as np\n",
    "import matplotlib.pyplot as plt\n",
    "import seaborn as sns\n",
    "\n",
    "# Load dataset\n",
    "file_path = \"credit_card_transactions.csv\"  # Update with actual file path\n",
    "df = pd.read_csv(file_path)"
   ]
  },
  {
   "cell_type": "code",
   "execution_count": 3,
   "id": "45c6bf8b-ba6b-4d75-b918-32fd2a111031",
   "metadata": {},
   "outputs": [
    {
     "name": "stdout",
     "output_type": "stream",
     "text": [
      "   Transaction_ID  Customer_ID Transaction_Date Transaction_Type Merchant  \\\n",
      "0          100000         4452       2023-01-01           Online  Walmart   \n",
      "1          100001         2775       2023-01-01              ATM  BestBuy   \n",
      "2          100002         2259       2023-01-01   Mobile Payment     Uber   \n",
      "3          100003         4545       2023-01-01           Online  BestBuy   \n",
      "4          100004         2137       2023-01-01              ATM   Amazon   \n",
      "\n",
      "   Category   Amount Payment_Mode Transaction_Status       Location  \n",
      "0    Travel  4520.70   Debit Card           Approved      Jonesport  \n",
      "1    Travel  1437.85   Debit Card           Approved  Port Jennifer  \n",
      "2  Clothing  3320.52       PayPal           Approved     Port James  \n",
      "3    Travel  2659.96   Debit Card           Approved     Hawkinston  \n",
      "4    Travel  2517.07   Debit Card           Approved    Matthewland  \n"
     ]
    }
   ],
   "source": [
    "# Display first few rows to get an idea of data structure\n",
    "print(df.head())"
   ]
  },
  {
   "cell_type": "code",
   "execution_count": 7,
   "id": "7dcc271f-4765-4d31-8c95-78f605d6fc5f",
   "metadata": {},
   "outputs": [
    {
     "name": "stdout",
     "output_type": "stream",
     "text": [
      "Dataset Info:\n",
      "<class 'pandas.core.frame.DataFrame'>\n",
      "RangeIndex: 5500 entries, 0 to 5499\n",
      "Data columns (total 10 columns):\n",
      " #   Column              Non-Null Count  Dtype  \n",
      "---  ------              --------------  -----  \n",
      " 0   Transaction_ID      5500 non-null   int64  \n",
      " 1   Customer_ID         5500 non-null   int64  \n",
      " 2   Transaction_Date    5500 non-null   object \n",
      " 3   Transaction_Type    5500 non-null   object \n",
      " 4   Merchant            5500 non-null   object \n",
      " 5   Category            5500 non-null   object \n",
      " 6   Amount              5500 non-null   float64\n",
      " 7   Payment_Mode        5500 non-null   object \n",
      " 8   Transaction_Status  5500 non-null   object \n",
      " 9   Location            5500 non-null   object \n",
      "dtypes: float64(1), int64(2), object(7)\n",
      "memory usage: 429.8+ KB\n"
     ]
    }
   ],
   "source": [
    "# Basic information about dataset\n",
    "print(\"Dataset Info:\")\n",
    "df.info()"
   ]
  },
  {
   "cell_type": "code",
   "execution_count": 9,
   "id": "6aafdd5d-7ce9-4ef6-8cad-a76c420857f9",
   "metadata": {},
   "outputs": [
    {
     "name": "stdout",
     "output_type": "stream",
     "text": [
      "Summary Statistics:\n",
      "       Transaction_ID  Customer_ID       Amount\n",
      "count     5500.000000  5500.000000  5500.000000\n",
      "mean    102749.500000  2989.954182  2492.109224\n",
      "std       1587.857571  1153.928878  1444.493842\n",
      "min     100000.000000  1000.000000     6.550000\n",
      "25%     101374.750000  1988.000000  1236.935000\n",
      "50%     102749.500000  3000.000000  2502.405000\n",
      "75%     104124.250000  3990.000000  3767.957500\n",
      "max     105499.000000  4998.000000  4997.490000\n"
     ]
    }
   ],
   "source": [
    "print(\"Summary Statistics:\")\n",
    "print(df.describe())"
   ]
  },
  {
   "cell_type": "code",
   "execution_count": 15,
   "id": "34e59bf4-270e-46a5-ba1c-4580f98dcd02",
   "metadata": {},
   "outputs": [
    {
     "name": "stdout",
     "output_type": "stream",
     "text": [
      "Missing Values:\n",
      "Transaction_ID        0\n",
      "Customer_ID           0\n",
      "Transaction_Date      0\n",
      "Transaction_Type      0\n",
      "Merchant              0\n",
      "Category              0\n",
      "Amount                0\n",
      "Payment_Mode          0\n",
      "Transaction_Status    0\n",
      "Location              0\n",
      "dtype: int64\n"
     ]
    }
   ],
   "source": [
    "# Check for missing values\n",
    "print(\"Missing Values:\")\n",
    "print(df.isnull().sum())\n",
    "\n",
    "# Dropping rows where essential columns are missing\n",
    "df.dropna(subset=[\"Transaction_ID\", \"Customer_ID\"], inplace=True)\n",
    "\n",
    "# fill missing values in \"Amount\"\n",
    "df[\"Amount\"] = df[\"Amount\"].fillna(df[\"Amount\"].median())"
   ]
  },
  {
   "cell_type": "code",
   "execution_count": 25,
   "id": "a158e675-b490-4ba5-9a00-689fa23247a4",
   "metadata": {},
   "outputs": [
    {
     "name": "stdout",
     "output_type": "stream",
     "text": [
      "\n",
      "Dataset after handling missing values and converting date:\n",
      "   Transaction_ID  Customer_ID Transaction_Date Transaction_Type Merchant  \\\n",
      "0          100000         4452       2023-01-01           Online  Walmart   \n",
      "1          100001         2775       2023-01-01              ATM  BestBuy   \n",
      "2          100002         2259       2023-01-01   Mobile Payment     Uber   \n",
      "3          100003         4545       2023-01-01           Online  BestBuy   \n",
      "4          100004         2137       2023-01-01              ATM   Amazon   \n",
      "\n",
      "   Category   Amount Payment_Mode Transaction_Status       Location  Year  \\\n",
      "0    Travel  4520.70   Debit Card           Approved      Jonesport  2023   \n",
      "1    Travel  1437.85   Debit Card           Approved  Port Jennifer  2023   \n",
      "2  Clothing  3320.52       PayPal           Approved     Port James  2023   \n",
      "3    Travel  2659.96   Debit Card           Approved     Hawkinston  2023   \n",
      "4    Travel  2517.07   Debit Card           Approved    Matthewland  2023   \n",
      "\n",
      "   Month  Day  \n",
      "0      1    1  \n",
      "1      1    1  \n",
      "2      1    1  \n",
      "3      1    1  \n",
      "4      1    1  \n"
     ]
    }
   ],
   "source": [
    "# Convert Transaction_Date to datetime format\n",
    "df[\"Transaction_Date\"] = pd.to_datetime(df[\"Transaction_Date\"], errors='coerce')\n",
    "df.dropna(subset=[\"Transaction_Date\"], inplace=True)  # Dropping invalid date entries\n",
    "df[\"Year\"] = df[\"Transaction_Date\"].dt.year\n",
    "df[\"Month\"] = df[\"Transaction_Date\"].dt.month\n",
    "df[\"Day\"] = df[\"Transaction_Date\"].dt.day\n",
    "\n",
    "print(\"\\nDataset after handling missing values and converting date:\")\n",
    "print(df.head())"
   ]
  },
  {
   "cell_type": "code",
   "execution_count": 27,
   "id": "b50d4417-3dac-4f24-b48a-932528c44157",
   "metadata": {},
   "outputs": [
    {
     "name": "stdout",
     "output_type": "stream",
     "text": [
      "\n",
      "Transactions in January 2024:\n",
      "Empty DataFrame\n",
      "Columns: [Transaction_ID, Customer_ID, Transaction_Date, Transaction_Type, Merchant, Category, Amount, Payment_Mode, Transaction_Status, Location, Year, Month, Day]\n",
      "Index: []\n"
     ]
    }
   ],
   "source": [
    "# Filter transactions for January 2024\n",
    "jan_transactions = df[(df[\"Year\"] == 2024) & (df[\"Month\"] == 1)]\n",
    "print(\"\\nTransactions in January 2024:\")\n",
    "print(jan_transactions.head())"
   ]
  },
  {
   "cell_type": "code",
   "execution_count": 29,
   "id": "32452245-f6ea-4ded-bf59-c47f1717618b",
   "metadata": {},
   "outputs": [
    {
     "name": "stdout",
     "output_type": "stream",
     "text": [
      "\n",
      "High-value online transactions (Amount > 1000):\n",
      "    Transaction_ID  Customer_ID Transaction_Date Transaction_Type Merchant  \\\n",
      "0           100000         4452       2023-01-01           Online  Walmart   \n",
      "3           100003         4545       2023-01-01           Online  BestBuy   \n",
      "6           100006         1587       2023-01-01           Online  Netflix   \n",
      "14          100014         1855       2023-01-01           Online  Walmart   \n",
      "18          100018         4438       2023-01-01           Online  BestBuy   \n",
      "\n",
      "         Category   Amount Payment_Mode Transaction_Status       Location  \\\n",
      "0          Travel  4520.70   Debit Card           Approved      Jonesport   \n",
      "3          Travel  2659.96   Debit Card           Approved     Hawkinston   \n",
      "6   Entertainment  2309.06   Debit Card           Approved      Scottport   \n",
      "14       Clothing  2365.67  Credit Card           Approved  Catherineland   \n",
      "18         Dining  2930.38          UPI           Approved    Johnsonside   \n",
      "\n",
      "    Year  Month  Day  \n",
      "0   2023      1    1  \n",
      "3   2023      1    1  \n",
      "6   2023      1    1  \n",
      "14  2023      1    1  \n",
      "18  2023      1    1  \n"
     ]
    }
   ],
   "source": [
    "# Transactions where Amount > 1000 and Transaction_Type is \"Online\"\n",
    "high_value_online = df[(df[\"Amount\"] > 1000) & (df[\"Transaction_Type\"] == \"Online\")]\n",
    "print(\"\\nHigh-value online transactions (Amount > 1000):\")\n",
    "print(high_value_online.head())"
   ]
  },
  {
   "cell_type": "code",
   "execution_count": 31,
   "id": "283929ec-83ae-4b27-9388-33e4fac1ba50",
   "metadata": {},
   "outputs": [
    {
     "name": "stdout",
     "output_type": "stream",
     "text": [
      "\n",
      "Approved Transactions:\n",
      "   Transaction_ID  Customer_ID Transaction_Date Transaction_Type Merchant  \\\n",
      "0          100000         4452       2023-01-01           Online  Walmart   \n",
      "1          100001         2775       2023-01-01              ATM  BestBuy   \n",
      "2          100002         2259       2023-01-01   Mobile Payment     Uber   \n",
      "3          100003         4545       2023-01-01           Online  BestBuy   \n",
      "4          100004         2137       2023-01-01              ATM   Amazon   \n",
      "\n",
      "   Category   Amount Payment_Mode Transaction_Status       Location  Year  \\\n",
      "0    Travel  4520.70   Debit Card           Approved      Jonesport  2023   \n",
      "1    Travel  1437.85   Debit Card           Approved  Port Jennifer  2023   \n",
      "2  Clothing  3320.52       PayPal           Approved     Port James  2023   \n",
      "3    Travel  2659.96   Debit Card           Approved     Hawkinston  2023   \n",
      "4    Travel  2517.07   Debit Card           Approved    Matthewland  2023   \n",
      "\n",
      "   Month  Day  \n",
      "0      1    1  \n",
      "1      1    1  \n",
      "2      1    1  \n",
      "3      1    1  \n",
      "4      1    1  \n"
     ]
    }
   ],
   "source": [
    "# Approved transactions\n",
    "df_approved = df[df[\"Transaction_Status\"] == \"Approved\"]\n",
    "print(\"\\nApproved Transactions:\")\n",
    "print(df_approved.head())"
   ]
  },
  {
   "cell_type": "code",
   "execution_count": 33,
   "id": "5442b559-2c6a-4eff-9020-facdc6921075",
   "metadata": {},
   "outputs": [
    {
     "name": "stdout",
     "output_type": "stream",
     "text": [
      "\n",
      "Dataset with Discounted_Amount column:\n",
      "   Transaction_ID  Customer_ID Transaction_Date Transaction_Type Merchant  \\\n",
      "0          100000         4452       2023-01-01           Online  Walmart   \n",
      "1          100001         2775       2023-01-01              ATM  BestBuy   \n",
      "2          100002         2259       2023-01-01   Mobile Payment     Uber   \n",
      "3          100003         4545       2023-01-01           Online  BestBuy   \n",
      "4          100004         2137       2023-01-01              ATM   Amazon   \n",
      "\n",
      "   Category   Amount Payment_Mode Transaction_Status       Location  Year  \\\n",
      "0    Travel  4520.70   Debit Card           Approved      Jonesport  2023   \n",
      "1    Travel  1437.85   Debit Card           Approved  Port Jennifer  2023   \n",
      "2  Clothing  3320.52       PayPal           Approved     Port James  2023   \n",
      "3    Travel  2659.96   Debit Card           Approved     Hawkinston  2023   \n",
      "4    Travel  2517.07   Debit Card           Approved    Matthewland  2023   \n",
      "\n",
      "   Month  Day  Discounted_Amount  \n",
      "0      1    1          4294.6650  \n",
      "1      1    1          1365.9575  \n",
      "2      1    1          3154.4940  \n",
      "3      1    1          2526.9620  \n",
      "4      1    1          2391.2165  \n"
     ]
    }
   ],
   "source": [
    "# Creating Discounted_Amount column\n",
    "def apply_discount(amount):\n",
    "    return amount * 0.95 if amount > 500 else amount\n",
    "df[\"Discounted_Amount\"] = df[\"Amount\"].apply(apply_discount)\n",
    "\n",
    "print(\"\\nDataset with Discounted_Amount column:\")\n",
    "print(df.head())"
   ]
  },
  {
   "cell_type": "code",
   "execution_count": 35,
   "id": "b07cfd35-a4a4-432e-ae97-56f152c035e6",
   "metadata": {},
   "outputs": [
    {
     "name": "stdout",
     "output_type": "stream",
     "text": [
      "\n",
      "Dataset with Transaction Level column:\n",
      "   Transaction_ID  Customer_ID Transaction_Date Transaction_Type Merchant  \\\n",
      "0          100000         4452       2023-01-01           Online  Walmart   \n",
      "1          100001         2775       2023-01-01              ATM  BestBuy   \n",
      "2          100002         2259       2023-01-01   Mobile Payment     Uber   \n",
      "3          100003         4545       2023-01-01           Online  BestBuy   \n",
      "4          100004         2137       2023-01-01              ATM   Amazon   \n",
      "\n",
      "   Category   Amount Payment_Mode Transaction_Status       Location  Year  \\\n",
      "0    Travel  4520.70   Debit Card           Approved      Jonesport  2023   \n",
      "1    Travel  1437.85   Debit Card           Approved  Port Jennifer  2023   \n",
      "2  Clothing  3320.52       PayPal           Approved     Port James  2023   \n",
      "3    Travel  2659.96   Debit Card           Approved     Hawkinston  2023   \n",
      "4    Travel  2517.07   Debit Card           Approved    Matthewland  2023   \n",
      "\n",
      "   Month  Day  Discounted_Amount Transaction_Level  \n",
      "0      1    1          4294.6650              High  \n",
      "1      1    1          1365.9575              High  \n",
      "2      1    1          3154.4940              High  \n",
      "3      1    1          2526.9620              High  \n",
      "4      1    1          2391.2165              High  \n"
     ]
    }
   ],
   "source": [
    "# Categorizing Transaction_Amount\n",
    "def categorize_amount(amount):\n",
    "    if amount < 100:\n",
    "        return \"Low\"\n",
    "    elif 100 <= amount <= 500:\n",
    "        return \"Medium\"\n",
    "    else:\n",
    "        return \"High\"\n",
    "df[\"Transaction_Level\"] = df[\"Amount\"].apply(categorize_amount)\n",
    "\n",
    "print(\"\\nDataset with Transaction Level column:\")\n",
    "print(df.head())"
   ]
  },
  {
   "cell_type": "code",
   "execution_count": 37,
   "id": "5bfe0e1e-f418-4cb0-91ee-98e325c0fd5d",
   "metadata": {},
   "outputs": [
    {
     "name": "stdout",
     "output_type": "stream",
     "text": [
      "\n",
      "Dataset after dropping Merchant column (if necessary):\n",
      "   Transaction_ID  Customer_ID Transaction_Date Transaction_Type Merchant  \\\n",
      "0          100000         4452       2023-01-01           Online  Walmart   \n",
      "1          100001         2775       2023-01-01              ATM  BestBuy   \n",
      "2          100002         2259       2023-01-01   Mobile Payment     Uber   \n",
      "3          100003         4545       2023-01-01           Online  BestBuy   \n",
      "4          100004         2137       2023-01-01              ATM   Amazon   \n",
      "\n",
      "   Category   Amount Payment_Mode Transaction_Status       Location  Year  \\\n",
      "0    Travel  4520.70   Debit Card           Approved      Jonesport  2023   \n",
      "1    Travel  1437.85   Debit Card           Approved  Port Jennifer  2023   \n",
      "2  Clothing  3320.52       PayPal           Approved     Port James  2023   \n",
      "3    Travel  2659.96   Debit Card           Approved     Hawkinston  2023   \n",
      "4    Travel  2517.07   Debit Card           Approved    Matthewland  2023   \n",
      "\n",
      "   Month  Day  Discounted_Amount Transaction_Level  \n",
      "0      1    1          4294.6650              High  \n",
      "1      1    1          1365.9575              High  \n",
      "2      1    1          3154.4940              High  \n",
      "3      1    1          2526.9620              High  \n",
      "4      1    1          2391.2165              High  \n"
     ]
    }
   ],
   "source": [
    "# Drop Merchant column if more than 30% values are missing\n",
    "if df[\"Merchant\"].isnull().mean() > 0.3:\n",
    "    df.drop(columns=[\"Merchant\"], inplace=True)\n",
    "\n",
    "print(\"\\nDataset after dropping Merchant column (if necessary):\")\n",
    "print(df.head())"
   ]
  },
  {
   "cell_type": "code",
   "execution_count": 41,
   "id": "ad995614-7329-4c19-9806-1d36dcbb3fbf",
   "metadata": {},
   "outputs": [
    {
     "name": "stdout",
     "output_type": "stream",
     "text": [
      "\n",
      "Total Transaction Amount per Category:\n",
      "Category\n",
      "Clothing         2185530.09\n",
      "Dining           2402259.10\n",
      "Electronics      2319437.34\n",
      "Entertainment    2243778.43\n",
      "Groceries        2386772.81\n",
      "Travel           2168822.96\n",
      "Name: Amount, dtype: float64\n",
      "\n",
      "Declined Transactions per Payment Mode:\n",
      "Payment_Mode\n",
      "Credit Card    117\n",
      "Debit Card     145\n",
      "PayPal         135\n",
      "UPI            134\n",
      "Name: Transaction_ID, dtype: int64\n",
      "\n",
      "Top 5 Most Frequent Merchants:\n",
      "Merchant\n",
      "Uber       833\n",
      "Walmart    818\n",
      "BestBuy    790\n",
      "Netflix    774\n",
      "Amazon     770\n",
      "Name: count, dtype: int64\n",
      "\n",
      "Average Transaction Amount per Location:\n",
      "Location\n",
      "Aaronfort       2429.860\n",
      "Aaronmouth      2648.060\n",
      "Aaronside        315.540\n",
      "Abbottbury      1549.850\n",
      "Abigailfort     3634.880\n",
      "                  ...   \n",
      "Zacharyburgh    2430.690\n",
      "Zacharyhaven     830.360\n",
      "Zacharymouth    3508.690\n",
      "Zacharystad     2925.135\n",
      "Zavalaburgh      364.530\n",
      "Name: Amount, Length: 4663, dtype: float64\n"
     ]
    }
   ],
   "source": [
    "# Aggregation\n",
    "category_total_amount = df.groupby(\"Category\")[\"Amount\"].sum()\n",
    "declined_transactions = df[df[\"Transaction_Status\"] == \"Declined\"].groupby(\"Payment_Mode\")[\"Transaction_ID\"].count()\n",
    "top_5_merchants = df[\"Merchant\"].value_counts().nlargest(5)\n",
    "location_avg_amount = df.groupby(\"Location\")[\"Amount\"].mean()\n",
    "\n",
    "print(\"\\nTotal Transaction Amount per Category:\")\n",
    "print(category_total_amount)\n",
    "print(\"\\nDeclined Transactions per Payment Mode:\")\n",
    "print(declined_transactions)\n",
    "print(\"\\nTop 5 Most Frequent Merchants:\")\n",
    "print(top_5_merchants)\n",
    "print(\"\\nAverage Transaction Amount per Location:\")\n",
    "print(location_avg_amount)"
   ]
  },
  {
   "cell_type": "code",
   "execution_count": 43,
   "id": "019b8400-3e89-4be7-a083-e2357bcc85bf",
   "metadata": {},
   "outputs": [
    {
     "name": "stdout",
     "output_type": "stream",
     "text": [
      "\n",
      "Suspicious Customers (More than 10 transactions in a day):\n",
      "Empty DataFrame\n",
      "Columns: [Customer_ID, Transaction_Date, Transaction_Count]\n",
      "Index: []\n"
     ]
    }
   ],
   "source": [
    "# Fraud detection\n",
    "suspicious_customers = df.groupby([\"Customer_ID\", \"Transaction_Date\"]).size().reset_index(name=\"Transaction_Count\")\n",
    "suspicious_customers = suspicious_customers[suspicious_customers[\"Transaction_Count\"] > 10]\n",
    "print(\"\\nSuspicious Customers (More than 10 transactions in a day):\")\n",
    "print(suspicious_customers)"
   ]
  },
  {
   "cell_type": "code",
   "execution_count": 45,
   "id": "123e7672-2a92-4873-9f98-412634c129ca",
   "metadata": {},
   "outputs": [
    {
     "name": "stdout",
     "output_type": "stream",
     "text": [
      "\n",
      "Transactions with same Customer_ID but different locations within 5 minutes:\n",
      "      Transaction_ID  Customer_ID Transaction_Date Transaction_Type  \\\n",
      "3717          103717         1079       2023-06-04   Mobile Payment   \n",
      "5461          105461         1140       2023-08-16           Online   \n",
      "5468          105468         1343       2023-08-16   Mobile Payment   \n",
      "4582          104582         1709       2023-07-10           Online   \n",
      "2588          102588         1776       2023-04-18           Online   \n",
      "207           100207         1910       2023-01-09           Online   \n",
      "2637          102637         1956       2023-04-20   Mobile Payment   \n",
      "4559          104559         2122       2023-07-09              ATM   \n",
      "1432          101432         2136       2023-03-01              POS   \n",
      "4569          104569         2165       2023-07-10              ATM   \n",
      "3465          103465         2270       2023-05-25              POS   \n",
      "767           100767         2884       2023-02-01           Online   \n",
      "2507          102507         3131       2023-04-15   Mobile Payment   \n",
      "2699          102699         3234       2023-04-23              POS   \n",
      "4941          104941         3351       2023-07-25              POS   \n",
      "1841          101841         3783       2023-03-18           Online   \n",
      "3511          103511         3861       2023-05-27   Mobile Payment   \n",
      "1960          101960         4143       2023-03-23           Online   \n",
      "1047          101047         4238       2023-02-13              POS   \n",
      "3282          103282         4429       2023-05-17           Online   \n",
      "5373          105373         4916       2023-08-12   Mobile Payment   \n",
      "\n",
      "         Merchant       Category   Amount Payment_Mode Transaction_Status  \\\n",
      "3717      Netflix         Travel  1292.38  Credit Card           Approved   \n",
      "5461  Apple Store  Entertainment  4027.18       PayPal           Approved   \n",
      "5468      Netflix  Entertainment   870.32       PayPal           Declined   \n",
      "4582      Walmart         Travel   205.13       PayPal           Approved   \n",
      "2588  Apple Store         Dining  3684.87       PayPal           Approved   \n",
      "207        Amazon      Groceries   175.36  Credit Card           Declined   \n",
      "2637       Amazon       Clothing  4993.16       PayPal           Approved   \n",
      "4559      Walmart      Groceries  3754.28   Debit Card           Approved   \n",
      "1432       Target      Groceries  1226.73   Debit Card           Approved   \n",
      "4569      Netflix      Groceries  4126.32   Debit Card           Declined   \n",
      "3465         Uber         Travel  3949.03  Credit Card           Approved   \n",
      "767        Amazon       Clothing  2549.76  Credit Card           Approved   \n",
      "2507       Target         Travel  4155.78          UPI           Approved   \n",
      "2699      Walmart      Groceries   834.41          UPI            Pending   \n",
      "4941         Uber    Electronics  3889.86          UPI           Approved   \n",
      "1841      Netflix    Electronics  4357.63       PayPal           Approved   \n",
      "3511         Uber       Clothing  4406.11          UPI           Approved   \n",
      "1960      Walmart         Travel   892.99   Debit Card           Approved   \n",
      "1047       Amazon    Electronics  4339.77       PayPal           Approved   \n",
      "3282      Walmart    Electronics  4448.52  Credit Card           Approved   \n",
      "5373         Uber         Travel   349.89   Debit Card           Approved   \n",
      "\n",
      "               Location  Year  Month  Day  Discounted_Amount  \\\n",
      "3717         Davidville  2023      6    4          1227.7610   \n",
      "5461  South Lorichester  2023      8   16          3825.8210   \n",
      "5468  Lake Danielleview  2023      8   16           826.8040   \n",
      "4582        West Rhonda  2023      7   10           205.1300   \n",
      "2588    New Jeffreyside  2023      4   18          3500.6265   \n",
      "207    Port Michaelfurt  2023      1    9           175.3600   \n",
      "2637          Crossstad  2023      4   20          4743.5020   \n",
      "4559       Sarahborough  2023      7    9          3566.5660   \n",
      "1432        South Aaron  2023      3    1          1165.3935   \n",
      "4569         Grantville  2023      7   10          3920.0040   \n",
      "3465   West Kristenview  2023      5   25          3751.5785   \n",
      "767       Alexandrabury  2023      2    1          2422.2720   \n",
      "2507        Matthewfurt  2023      4   15          3947.9910   \n",
      "2699   Christophershire  2023      4   23           792.6895   \n",
      "4941         East Carol  2023      7   25          3695.3670   \n",
      "1841  North Michelleton  2023      3   18          4139.7485   \n",
      "3511          Kingburgh  2023      5   27          4185.8045   \n",
      "1960          Singhfort  2023      3   23           848.3405   \n",
      "1047      South Rebecca  2023      2   13          4122.7815   \n",
      "3282       Santanamouth  2023      5   17          4226.0940   \n",
      "5373          New James  2023      8   12           349.8900   \n",
      "\n",
      "     Transaction_Level  Time_Difference  \n",
      "3717              High              0.0  \n",
      "5461              High              0.0  \n",
      "5468              High              0.0  \n",
      "4582            Medium              0.0  \n",
      "2588              High              0.0  \n",
      "207             Medium              0.0  \n",
      "2637              High              0.0  \n",
      "4559              High              0.0  \n",
      "1432              High              0.0  \n",
      "4569              High              0.0  \n",
      "3465              High              0.0  \n",
      "767               High              0.0  \n",
      "2507              High              0.0  \n",
      "2699              High              0.0  \n",
      "4941              High              0.0  \n",
      "1841              High              0.0  \n",
      "3511              High              0.0  \n",
      "1960              High              0.0  \n",
      "1047              High              0.0  \n",
      "3282              High              0.0  \n",
      "5373            Medium              0.0  \n"
     ]
    }
   ],
   "source": [
    "# Detect transactions of same Customer_ID at different locations within 5 mins\n",
    "df.sort_values([\"Customer_ID\", \"Transaction_Date\"], inplace=True)\n",
    "df[\"Time_Difference\"] = df.groupby(\"Customer_ID\")[\"Transaction_Date\"].diff().dt.total_seconds() / 60\n",
    "diff_location_transactions = df[(df[\"Time_Difference\"] <= 5) & (df[\"Location\"].shift() != df[\"Location\"])]\n",
    "print(\"\\nTransactions with same Customer_ID but different locations within 5 minutes:\")\n",
    "print(diff_location_transactions)\n"
   ]
  },
  {
   "cell_type": "code",
   "execution_count": 47,
   "id": "a7a431e3-d296-446f-a5dc-180c891fb33e",
   "metadata": {},
   "outputs": [
    {
     "name": "stdout",
     "output_type": "stream",
     "text": [
      "\n",
      "High-Risk Transactions (Amount > 5000 & Online):\n",
      "Empty DataFrame\n",
      "Columns: [Transaction_ID, Customer_ID, Transaction_Date, Transaction_Type, Merchant, Category, Amount, Payment_Mode, Transaction_Status, Location, Year, Month, Day, Discounted_Amount, Transaction_Level, Time_Difference]\n",
      "Index: []\n"
     ]
    }
   ],
   "source": [
    "# High-risk transactions\n",
    "high_risk = df[(df[\"Amount\"] > 5000) & (df[\"Transaction_Type\"] == \"Online\")]\n",
    "print(\"\\nHigh-Risk Transactions (Amount > 5000 & Online):\")\n",
    "print(high_risk)"
   ]
  },
  {
   "cell_type": "code",
   "execution_count": 59,
   "id": "015a9b18-a7e4-436f-b9eb-b3e0cbbfa486",
   "metadata": {},
   "outputs": [
    {
     "name": "stdout",
     "output_type": "stream",
     "text": [
      "   Transaction_ID  Customer_ID Transaction_Date Transaction_Type     Merchant  \\\n",
      "0          102592         1000       2023-04-19           Online       Amazon   \n",
      "1          102502         1001       2023-04-15              POS  Apple Store   \n",
      "2          100926         1003       2023-02-08           Online       Target   \n",
      "3          104143         1003       2023-06-22   Mobile Payment       Target   \n",
      "4          101797         1006       2023-03-16              POS      BestBuy   \n",
      "\n",
      "      Category   Amount Payment_Mode Transaction_Status          Location  \\\n",
      "0  Electronics  3324.12          UPI           Declined       West Joshua   \n",
      "1  Electronics   882.18  Credit Card           Approved    Port Cathyland   \n",
      "2  Electronics  2776.66       PayPal           Approved    Lake Peterbury   \n",
      "3       Travel  3269.75       PayPal           Approved        Monicaside   \n",
      "4       Travel  1615.50       PayPal           Approved  Nathanielborough   \n",
      "\n",
      "   Year  Month  Day  Discounted_Amount Transaction_Level  Time_Difference  \\\n",
      "0  2023      4   19          3157.9140              High              NaN   \n",
      "1  2023      4   15           838.0710              High              NaN   \n",
      "2  2023      2    8          2637.8270              High              NaN   \n",
      "3  2023      6   22          3106.2625              High         192960.0   \n",
      "4  2023      3   16          1534.7250              High              NaN   \n",
      "\n",
      "   Age Gender Account_Status  \n",
      "0  NaN    NaN            NaN  \n",
      "1  NaN    NaN            NaN  \n",
      "2  NaN    NaN            NaN  \n",
      "3  NaN    NaN            NaN  \n",
      "4  NaN    NaN            NaN  \n"
     ]
    }
   ],
   "source": [
    "# Merge with customer dataset\n",
    "customer_info = pd.read_csv(\"customer_info.csv\")\n",
    "df_merged = df.merge(customer_info, on=\"Customer_ID\", how=\"left\")\n",
    "print(df_merged.head())"
   ]
  },
  {
   "cell_type": "code",
   "execution_count": 63,
   "id": "bacdd2b9-6251-442c-9fdb-898846fcea37",
   "metadata": {},
   "outputs": [
    {
     "name": "stdout",
     "output_type": "stream",
     "text": [
      "\n",
      "Average Transaction Amount per Age Group:\n",
      "Age_Group\n",
      "18-30    2867.971364\n",
      "31-45    2785.663810\n",
      "46-60    2978.273214\n",
      "60+      2941.358947\n",
      "Name: Amount, dtype: float64\n"
     ]
    }
   ],
   "source": [
    "# Average transaction amount per age group\n",
    "df_merged[\"Age_Group\"] = pd.cut(df_merged[\"Age\"], bins=[18, 30, 45, 60, 100], labels=[\"18-30\", \"31-45\", \"46-60\", \"60+\"])\n",
    "\n",
    "# Explicitly set observed=True to avoid the warning\n",
    "avg_transaction_age = df_merged.groupby(\"Age_Group\", observed=True)[\"Amount\"].mean()\n",
    "\n",
    "print(\"\\nAverage Transaction Amount per Age Group:\")\n",
    "print(avg_transaction_age)"
   ]
  },
  {
   "cell_type": "code",
   "execution_count": 67,
   "id": "cb13371a-2ce0-484b-83a8-041dcfe3b48f",
   "metadata": {},
   "outputs": [
    {
     "data": {
      "image/png": "[encoded data removed]",
      "text/plain": [
       "<Figure size 1000x500 with 1 Axes>"
      ]
     },
     "metadata": {},
     "output_type": "display_data"
    }
   ],
   "source": [
    "# Visualization\n",
    "plt.figure(figsize=(10, 5))\n",
    "sns.barplot(x=category_total_amount.index, y=category_total_amount.values)\n",
    "plt.title(\"Total Transaction Amount per Category\")\n",
    "plt.xticks(rotation=45)\n",
    "plt.xlabel(\"Category\")\n",
    "plt.ylabel(\"Total Amount\")\n",
    "plt.show()"
   ]
  },
  {
   "cell_type": "code",
   "execution_count": 69,
   "id": "56c4476c-6be2-4463-bbca-f77e7655a776",
   "metadata": {},
   "outputs": [
    {
     "data": {
      "image/png": "[encoded data removed]",
      "text/plain": [
       "<Figure size 800x600 with 2 Axes>"
      ]
     },
     "metadata": {},
     "output_type": "display_data"
    }
   ],
   "source": [
    "# Select only numerical columns\n",
    "numeric_df = df.select_dtypes(include=[\"number\"])\n",
    "\n",
    "# Plot heatmap\n",
    "plt.figure(figsize=(8, 6))\n",
    "sns.heatmap(numeric_df.corr(), annot=True, cmap=\"coolwarm\", fmt=\".2f\")\n",
    "plt.title(\"Correlation Heatmap\")\n",
    "plt.show()"
   ]
  },
  {
   "cell_type": "code",
   "execution_count": null,
   "id": "18fe70cc-f89b-45f0-9b5f-4647c49de3f9",
   "metadata": {},
   "outputs": [],
   "source": []
  }
 ],
 "metadata": {
  "kernelspec": {
   "display_name": "Python 3 (ipykernel)",
   "language": "python",
   "name": "python3"
  },
  "language_info": {
   "codemirror_mode": {
    "name": "ipython",
    "version": 3
   },
   "file_extension": ".py",
   "mimetype": "text/x-python",
   "name": "python",
   "nbconvert_exporter": "python",
   "pygments_lexer": "ipython3",
   "version": "3.12.4"
  }
 },
 "nbformat": 4,
 "nbformat_minor": 5
}
